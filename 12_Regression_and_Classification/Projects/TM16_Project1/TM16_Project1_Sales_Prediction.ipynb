{
 "cells": [
  {
   "cell_type": "markdown",
   "id": "bca209a8",
   "metadata": {},
   "source": [
    "# Sales Prediction using Multiple Linear Regression\n",
    "\n",
    "This notebook demonstrates building a **Sales Prediction Model** based on campaigning expenses (TV, Radio, Newspaper).  \n",
    "\n",
    "We will follow these steps:\n",
    "\n",
    "1. Load the data in a DataFrame  \n",
    "2. Perform Data Preprocessing  \n",
    "3. Handle Categorical Data (if any)  \n",
    "4. Perform Exploratory Data Analysis (EDA)  \n",
    "5. Build the model using **Multiple Linear Regression**  \n",
    "6. Use appropriate evaluation metrics  "
   ]
  },
  {
   "cell_type": "code",
   "execution_count": null,
   "id": "2ec607ea",
   "metadata": {
    "vscode": {
     "languageId": "plaintext"
    }
   },
   "outputs": [],
   "source": [
    "# Step 1: Load the Data\n",
    "import pandas as pd\n",
    "\n",
    "# Load dataset\n",
    "data = pd.read_csv(\"Advertising.csv\")\n",
    "\n",
    "# Show first few rows\n",
    "data.head()"
   ]
  },
  {
   "cell_type": "code",
   "execution_count": null,
   "id": "609467b3",
   "metadata": {
    "vscode": {
     "languageId": "plaintext"
    }
   },
   "outputs": [],
   "source": [
    "# Step 2: Data Preprocessing\n",
    "# Check for null values and data types\n",
    "data.info()\n",
    "data.isnull().sum()"
   ]
  },
  {
   "cell_type": "markdown",
   "id": "64cb0f17",
   "metadata": {},
   "source": [
    "# Step 3: Handle Categorical Data\n",
    "# In this dataset, all features are numeric. No categorical data handling required."
   ]
  },
  {
   "cell_type": "code",
   "execution_count": null,
   "id": "770ee4ef",
   "metadata": {
    "vscode": {
     "languageId": "plaintext"
    }
   },
   "outputs": [],
   "source": [
    "# Step 4: Exploratory Data Analysis\n",
    "import matplotlib.pyplot as plt\n",
    "import seaborn as sns\n",
    "\n",
    "# Pairplot\n",
    "sns.pairplot(data)\n",
    "plt.show()\n",
    "\n",
    "# Correlation heatmap\n",
    "plt.figure(figsize=(8,6))\n",
    "sns.heatmap(data.corr(), annot=True, cmap=\"coolwarm\")\n",
    "plt.show()"
   ]
  },
  {
   "cell_type": "markdown",
   "id": "59f493a4",
   "metadata": {},
   "source": [
    "# Step 5: Build the Model using Multiple Linear Regression\n",
    "from sklearn.model_selection import train_test_split\n",
    "from sklearn.linear_model import LinearRegression\n",
    "\n",
    "# Features and target\n",
    "X = data[['TV', 'Radio', 'Newspaper']]\n",
    "y = data['Sales']\n",
    "\n",
    "# Train-test split\n",
    "X_train, X_test, y_train, y_test = train_test_split(X, y, test_size=0.2, random_state=42)\n",
    "\n",
    "# Train model\n",
    "model = LinearRegression()\n",
    "model.fit(X_train, y_train)\n",
    "\n",
    "# Coefficients\n",
    "print(\"Intercept:\", model.intercept_)\n",
    "print(\"Coefficients:\", model.coef_)"
   ]
  },
  {
   "cell_type": "code",
   "execution_count": null,
   "id": "f221acda",
   "metadata": {
    "vscode": {
     "languageId": "plaintext"
    }
   },
   "outputs": [],
   "source": [
    "# Step 6: Evaluation Metrics\n",
    "from sklearn.metrics import mean_squared_error, r2_score\n",
    "\n",
    "# Predictions\n",
    "y_pred = model.predict(X_test)\n",
    "\n",
    "# Evaluation\n",
    "mse = mean_squared_error(y_test, y_pred)\n",
    "r2 = r2_score(y_test, y_pred)\n",
    "\n",
    "print(\"Mean Squared Error:\", mse)\n",
    "print(\"R-squared:\", r2)"
   ]
  }
 ],
 "metadata": {
  "language_info": {
   "name": "python"
  }
 },
 "nbformat": 4,
 "nbformat_minor": 5
}
