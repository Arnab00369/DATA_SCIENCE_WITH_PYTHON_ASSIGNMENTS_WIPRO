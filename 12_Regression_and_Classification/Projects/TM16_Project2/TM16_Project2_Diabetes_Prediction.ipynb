{
 "cells": [
  {
   "cell_type": "markdown",
   "id": "2808b8c0",
   "metadata": {},
   "source": [
    "# Diabetes Prediction using Logistic Regression and KNN\n",
    "\n",
    "This notebook demonstrates building a **Diabetes Prediction Model** using the PIMA Indians dataset.  \n",
    "\n",
    "We will follow these steps:\n",
    "1. Load the data in a DataFrame  \n",
    "2. Perform Data Preprocessing  \n",
    "3. Perform Exploratory Data Analysis (EDA)  \n",
    "4. Build models using **Logistic Regression** and **K-Nearest Neighbour (KNN)**  \n",
    "5. Use appropriate evaluation metrics"
   ]
  },
  {
   "cell_type": "code",
   "execution_count": null,
   "id": "40e01f20",
   "metadata": {
    "vscode": {
     "languageId": "plaintext"
    }
   },
   "outputs": [],
   "source": [
    "import pandas as pd\n",
    "\n",
    "# Load dataset\n",
    "data = pd.read_csv(\"diabetes.csv\")\n",
    "\n",
    "# Show first few rows\n",
    "data.head()"
   ]
  },
  {
   "cell_type": "code",
   "execution_count": null,
   "id": "b3e9804a",
   "metadata": {
    "vscode": {
     "languageId": "plaintext"
    }
   },
   "outputs": [],
   "source": [
    "# Info and missing values check\n",
    "data.info()\n",
    "data.isnull().sum()\n",
    "\n",
    "# Some columns have zeros where biologically not possible\n",
    "# (Glucose, BloodPressure, SkinThickness, Insulin, BMI)\n",
    "import numpy as np\n",
    "\n",
    "cols_with_zero = ['Glucose','BloodPressure','SkinThickness','Insulin','BMI']\n",
    "data[cols_with_zero] = data[cols_with_zero].replace(0, np.nan)\n",
    "\n",
    "# Fill NaN with median values\n",
    "data.fillna(data.median(), inplace=True)\n",
    "\n",
    "data.describe()"
   ]
  },
  {
   "cell_type": "code",
   "execution_count": null,
   "id": "186360e0",
   "metadata": {
    "vscode": {
     "languageId": "plaintext"
    }
   },
   "outputs": [],
   "source": [
    "import matplotlib.pyplot as plt\n",
    "import seaborn as sns\n",
    "\n",
    "# Outcome distribution\n",
    "sns.countplot(x='Outcome', data=data)\n",
    "plt.show()\n",
    "\n",
    "# Correlation heatmap\n",
    "plt.figure(figsize=(10,6))\n",
    "sns.heatmap(data.corr(), annot=True, cmap=\"coolwarm\")\n",
    "plt.show()"
   ]
  },
  {
   "cell_type": "code",
   "execution_count": null,
   "id": "011be124",
   "metadata": {
    "vscode": {
     "languageId": "plaintext"
    }
   },
   "outputs": [],
   "source": [
    "from sklearn.model_selection import train_test_split\n",
    "from sklearn.preprocessing import StandardScaler\n",
    "\n",
    "# Features and target\n",
    "X = data.drop('Outcome', axis=1)\n",
    "y = data['Outcome']\n",
    "\n",
    "# Split\n",
    "X_train, X_test, y_train, y_test = train_test_split(X, y, test_size=0.2, random_state=42)\n",
    "\n",
    "# Scale features\n",
    "scaler = StandardScaler()\n",
    "X_train = scaler.fit_transform(X_train)\n",
    "X_test = scaler.transform(X_test)"
   ]
  },
  {
   "cell_type": "code",
   "execution_count": null,
   "id": "ba2359f0",
   "metadata": {
    "vscode": {
     "languageId": "plaintext"
    }
   },
   "outputs": [],
   "source": [
    "from sklearn.linear_model import LogisticRegression\n",
    "from sklearn.metrics import accuracy_score, confusion_matrix, classification_report\n",
    "\n",
    "# Train\n",
    "log_reg = LogisticRegression(max_iter=1000)\n",
    "log_reg.fit(X_train, y_train)\n",
    "\n",
    "# Predict\n",
    "y_pred_log = log_reg.predict(X_test)\n",
    "\n",
    "# Evaluation\n",
    "print(\"Accuracy (Logistic Regression):\", accuracy_score(y_test, y_pred_log))\n",
    "print(\"\\nConfusion Matrix:\\n\", confusion_matrix(y_test, y_pred_log))\n",
    "print(\"\\nClassification Report:\\n\", classification_report(y_test, y_pred_log))"
   ]
  },
  {
   "cell_type": "code",
   "execution_count": null,
   "id": "637c4a74",
   "metadata": {
    "vscode": {
     "languageId": "plaintext"
    }
   },
   "outputs": [],
   "source": [
    "from sklearn.neighbors import KNeighborsClassifier\n",
    "\n",
    "# Train\n",
    "knn = KNeighborsClassifier(n_neighbors=5)\n",
    "knn.fit(X_train, y_train)\n",
    "\n",
    "# Predict\n",
    "y_pred_knn = knn.predict(X_test)\n",
    "\n",
    "# Evaluation\n",
    "print(\"Accuracy (KNN):\", accuracy_score(y_test, y_pred_knn))\n",
    "print(\"\\nConfusion Matrix:\\n\", confusion_matrix(y_test, y_pred_knn))\n",
    "print(\"\\nClassification Report:\\n\", classification_report(y_test, y_pred_knn))"
   ]
  }
 ],
 "metadata": {
  "language_info": {
   "name": "python"
  }
 },
 "nbformat": 4,
 "nbformat_minor": 5
}
