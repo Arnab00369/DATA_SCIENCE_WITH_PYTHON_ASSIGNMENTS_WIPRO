{
 "cells": [
  {
   "cell_type": "code",
   "execution_count": null,
   "id": "edee4562",
   "metadata": {
    "vscode": {
     "languageId": "plaintext"
    }
   },
   "outputs": [],
   "source": [
    "# Cell 1: Import required libraries\n",
    "import pandas as pd\n",
    "import numpy as np\n",
    "import seaborn as sns\n",
    "import matplotlib.pyplot as plt\n",
    "\n",
    "# Display settings\n",
    "pd.set_option('display.max_columns', None)"
   ]
  },
  {
   "cell_type": "code",
   "execution_count": null,
   "id": "dc1b98f1",
   "metadata": {
    "vscode": {
     "languageId": "plaintext"
    }
   },
   "outputs": [],
   "source": [
    "# Cell 2: Load the dataset\n",
    "df = pd.read_csv(\"Diabetes.csv\")   # Replace with correct path if needed\n",
    "df.head()"
   ]
  },
  {
   "cell_type": "code",
   "execution_count": null,
   "id": "266a2665",
   "metadata": {
    "vscode": {
     "languageId": "plaintext"
    }
   },
   "outputs": [],
   "source": [
    "# Cell 3: Basic dataset overview\n",
    "df.info()\n",
    "df.describe()"
   ]
  },
  {
   "cell_type": "code",
   "execution_count": null,
   "id": "6f743e5c",
   "metadata": {
    "vscode": {
     "languageId": "plaintext"
    }
   },
   "outputs": [],
   "source": [
    "# Cell 4: Data Cleaning\n",
    "# Check for null values\n",
    "print(\"Missing values:\\n\", df.isnull().sum())\n",
    "\n",
    "# Replace zero values in certain columns with NaN (common in Diabetes dataset)\n",
    "cols_with_zeros = [\"Glucose\", \"BloodPressure\", \"SkinThickness\", \"Insulin\", \"BMI\"]\n",
    "df[cols_with_zeros] = df[cols_with_zeros].replace(0, np.nan)\n",
    "\n",
    "# Impute missing values with mean\n",
    "df.fillna(df.mean(), inplace=True)\n",
    "\n",
    "df.isnull().sum()"
   ]
  },
  {
   "cell_type": "code",
   "execution_count": null,
   "id": "4f333e40",
   "metadata": {
    "vscode": {
     "languageId": "plaintext"
    }
   },
   "outputs": [],
   "source": [
    "# Cell 5: Handling categorical data (if present)\n",
    "# In Diabetes dataset, 'Outcome' is categorical (0 = No Diabetes, 1 = Diabetes)\n",
    "df['Outcome'] = df['Outcome'].astype('category')\n",
    "\n",
    "df['Outcome'].value_counts()"
   ]
  },
  {
   "cell_type": "code",
   "execution_count": null,
   "id": "57f6aeb3",
   "metadata": {
    "vscode": {
     "languageId": "plaintext"
    }
   },
   "outputs": [],
   "source": [
    "# Cell 6: Univariate Analysis\n",
    "plt.figure(figsize=(10,6))\n",
    "sns.countplot(x=\"Outcome\", data=df)\n",
    "plt.title(\"Distribution of Diabetes Outcome (0 = No, 1 = Yes)\")\n",
    "plt.show()\n",
    "\n",
    "# Histogram for numerical columns\n",
    "df.hist(bins=20, figsize=(15,10))\n",
    "plt.show()"
   ]
  },
  {
   "cell_type": "code",
   "execution_count": null,
   "id": "5d88f808",
   "metadata": {
    "vscode": {
     "languageId": "plaintext"
    }
   },
   "outputs": [],
   "source": [
    "# Cell 7: Bi-variate Analysis\n",
    "# Correlation heatmap\n",
    "plt.figure(figsize=(10,8))\n",
    "sns.heatmap(df.corr(), annot=True, cmap=\"coolwarm\")\n",
    "plt.title(\"Correlation Heatmap\")\n",
    "plt.show()\n",
    "\n",
    "# Pairplot for visualization\n",
    "sns.pairplot(df, hue=\"Outcome\")\n",
    "plt.show()\n",
    "\n",
    "# Boxplot of Glucose by Outcome\n",
    "plt.figure(figsize=(6,4))\n",
    "sns.boxplot(x=\"Outcome\", y=\"Glucose\", data=df)\n",
    "plt.title(\"Glucose levels vs Outcome\")\n",
    "plt.show()"
   ]
  }
 ],
 "metadata": {
  "language_info": {
   "name": "python"
  }
 },
 "nbformat": 4,
 "nbformat_minor": 5
}
