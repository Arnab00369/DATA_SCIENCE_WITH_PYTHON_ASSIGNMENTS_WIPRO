{
  "nbformat": 4,
  "nbformat_minor": 0,
  "metadata": {
    "colab": {
      "provenance": []
    },
    "kernelspec": {
      "name": "python3",
      "display_name": "Python 3"
    },
    "language_info": {
      "name": "python"
    }
  },
  "cells": [
    {
      "cell_type": "code",
      "execution_count": null,
      "metadata": {
        "id": "PZZL1hE8tzUS"
      },
      "outputs": [],
      "source": [
        "# Cell 1: Import Libraries\n",
        "import pandas as pd\n",
        "import matplotlib.pyplot as plt\n",
        "import seaborn as sns\n",
        "sns.set(style=\"whitegrid\")"
      ]
    },
    {
      "cell_type": "code",
      "source": [
        "# Cell 2: Load Dataset\n",
        "df = pd.read_csv(\"Social_Network_Ads.csv\")\n",
        "df.head()"
      ],
      "metadata": {
        "id": "dPFg7TmAt-s1"
      },
      "execution_count": null,
      "outputs": []
    },
    {
      "cell_type": "code",
      "source": [
        "# Cell 3: Basic Info\n",
        "print(df.shape)\n",
        "print(df.info())\n",
        "print(df.describe(include=\"all\"))"
      ],
      "metadata": {
        "id": "p6-UCx9auANy"
      },
      "execution_count": null,
      "outputs": []
    },
    {
      "cell_type": "code",
      "source": [
        "# Cell 4: Missing Values\n",
        "print(df.isnull().sum())"
      ],
      "metadata": {
        "id": "sFp3qys2uBx2"
      },
      "execution_count": null,
      "outputs": []
    },
    {
      "cell_type": "code",
      "source": [
        "# Cell 5: Univariate Analysis\n",
        "df.hist(figsize=(10,6), bins=15, edgecolor=\"black\")\n",
        "plt.show()"
      ],
      "metadata": {
        "id": "dkH_xABKuDKR"
      },
      "execution_count": null,
      "outputs": []
    },
    {
      "cell_type": "code",
      "source": [
        "# Boxplots\n",
        "for col in df.select_dtypes(include=['int64', 'float64']).columns:\n",
        "    sns.boxplot(y=df[col])\n",
        "    plt.title(f\"Boxplot of {col}\")\n",
        "    plt.show()"
      ],
      "metadata": {
        "id": "hRPbQ_BpuET9"
      },
      "execution_count": null,
      "outputs": []
    },
    {
      "cell_type": "code",
      "source": [
        "# Cell 6: Bivariate Analysis\n",
        "sns.countplot(x=\"Purchased\", data=df)\n",
        "plt.show()"
      ],
      "metadata": {
        "id": "elNYZCNXuFp8"
      },
      "execution_count": null,
      "outputs": []
    },
    {
      "cell_type": "code",
      "source": [
        "sns.boxplot(x=\"Purchased\", y=\"Age\", data=df)\n",
        "plt.show()"
      ],
      "metadata": {
        "id": "zLzbvrp0uHVq"
      },
      "execution_count": null,
      "outputs": []
    },
    {
      "cell_type": "code",
      "source": [
        "sns.boxplot(x=\"Purchased\", y=\"EstimatedSalary\", data=df)\n",
        "plt.show()"
      ],
      "metadata": {
        "id": "HHAeFSMiuIkj"
      },
      "execution_count": null,
      "outputs": []
    },
    {
      "cell_type": "code",
      "source": [
        "# Cell 7: Correlation Heatmap\n",
        "sns.heatmap(df.corr(), annot=True, cmap=\"coolwarm\")\n",
        "plt.show()"
      ],
      "metadata": {
        "id": "uoujrgV0uJ4E"
      },
      "execution_count": null,
      "outputs": []
    }
  ]
}