{
  "nbformat": 4,
  "nbformat_minor": 0,
  "metadata": {
    "colab": {
      "provenance": []
    },
    "kernelspec": {
      "name": "python3",
      "display_name": "Python 3"
    },
    "language_info": {
      "name": "python"
    }
  },
  "cells": [
    {
      "cell_type": "code",
      "execution_count": null,
      "metadata": {
        "id": "kdybnE6aryAH"
      },
      "outputs": [],
      "source": [
        "# Cell 1: Import Libraries\n",
        "import pandas as pd\n",
        "import numpy as np\n",
        "import matplotlib.pyplot as plt\n",
        "import seaborn as sns\n",
        "sns.set(style=\"whitegrid\")"
      ]
    },
    {
      "cell_type": "code",
      "source": [
        "# Cell 2: Load Dataset\n",
        "df = pd.read_csv(\"Mall_Customers.csv\")\n",
        "df.head()"
      ],
      "metadata": {
        "id": "12aGzq87sz-m"
      },
      "execution_count": null,
      "outputs": []
    },
    {
      "cell_type": "code",
      "source": [
        "# Cell 3: Basic Info\n",
        "print(df.shape)\n",
        "print(df.info())\n",
        "print(df.describe(include=\"all\"))"
      ],
      "metadata": {
        "id": "UpLSQ1V4s2HQ"
      },
      "execution_count": null,
      "outputs": []
    },
    {
      "cell_type": "code",
      "source": [
        "# Cell 4: Missing Values\n",
        "print(df.isnull().sum())"
      ],
      "metadata": {
        "id": "TVXBwHocs3ZJ"
      },
      "execution_count": null,
      "outputs": []
    },
    {
      "cell_type": "code",
      "source": [
        "# Cell 5: Univariate Analysis\n",
        "df.hist(figsize=(10,6), bins=20, edgecolor=\"black\")\n",
        "plt.show()"
      ],
      "metadata": {
        "id": "vNdj8w58s4t7"
      },
      "execution_count": null,
      "outputs": []
    },
    {
      "cell_type": "code",
      "source": [
        "sns.boxplot(data=df.drop(columns=['CustomerID']))\n",
        "plt.show()"
      ],
      "metadata": {
        "id": "igro4jCts53r"
      },
      "execution_count": null,
      "outputs": []
    },
    {
      "cell_type": "code",
      "source": [
        "# Cell 6: Bivariate Analysis\n",
        "sns.pairplot(df.drop(columns=['CustomerID']))\n",
        "plt.show()"
      ],
      "metadata": {
        "id": "h8xUphOZs7F0"
      },
      "execution_count": null,
      "outputs": []
    },
    {
      "cell_type": "code",
      "source": [
        "sns.heatmap(df.drop(columns=['CustomerID']).corr(), annot=True, cmap=\"coolwarm\")\n",
        "plt.show()"
      ],
      "metadata": {
        "id": "aWRT5ejls8Qd"
      },
      "execution_count": null,
      "outputs": []
    },
    {
      "cell_type": "code",
      "source": [
        "# Cell 7: Categorical Analysis\n",
        "sns.countplot(x=\"Gender\", data=df)\n",
        "plt.show()"
      ],
      "metadata": {
        "id": "SpbtS1fos86u"
      },
      "execution_count": null,
      "outputs": []
    }
  ]
}