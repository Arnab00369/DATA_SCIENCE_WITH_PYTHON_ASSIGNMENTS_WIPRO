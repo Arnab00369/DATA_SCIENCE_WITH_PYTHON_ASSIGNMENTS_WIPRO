{
  "nbformat": 4,
  "nbformat_minor": 0,
  "metadata": {
    "colab": {
      "provenance": []
    },
    "kernelspec": {
      "name": "python3",
      "display_name": "Python 3"
    },
    "language_info": {
      "name": "python"
    }
  },
  "cells": [
    {
      "cell_type": "code",
      "execution_count": null,
      "metadata": {
        "id": "y37ikJ3AtR7-"
      },
      "outputs": [],
      "source": [
        "# Cell 1: Import Libraries\n",
        "import pandas as pd\n",
        "import matplotlib.pyplot as plt\n",
        "import seaborn as sns\n",
        "sns.set(style=\"whitegrid\")"
      ]
    },
    {
      "cell_type": "code",
      "source": [
        "# Cell 2: Load Dataset\n",
        "df = pd.read_csv(\"Salary_Data.csv\")\n",
        "df.head()"
      ],
      "metadata": {
        "id": "Agfvle0Htbnr"
      },
      "execution_count": null,
      "outputs": []
    },
    {
      "cell_type": "code",
      "source": [
        "# Cell 3: Basic Info\n",
        "print(df.shape)\n",
        "print(df.info())\n",
        "print(df.describe())"
      ],
      "metadata": {
        "id": "3h3jogxMtc83"
      },
      "execution_count": null,
      "outputs": []
    },
    {
      "cell_type": "code",
      "source": [
        "# Cell 4: Missing Values\n",
        "print(df.isnull().sum())"
      ],
      "metadata": {
        "id": "dk21ZPXjteRW"
      },
      "execution_count": null,
      "outputs": []
    },
    {
      "cell_type": "code",
      "source": [
        "# Cell 5: Univariate Analysis\n",
        "df.hist(figsize=(8,5), bins=10, edgecolor=\"black\")\n",
        "plt.show()"
      ],
      "metadata": {
        "id": "GFxaTddRtfxD"
      },
      "execution_count": null,
      "outputs": []
    },
    {
      "cell_type": "code",
      "source": [
        "sns.boxplot(data=df)\n",
        "plt.show()"
      ],
      "metadata": {
        "id": "GnB-DajzthNI"
      },
      "execution_count": null,
      "outputs": []
    },
    {
      "cell_type": "code",
      "source": [
        "# Cell 6: Bivariate Analysis\n",
        "sns.scatterplot(x=\"YearsExperience\", y=\"Salary\", data=df)\n",
        "plt.title(\"Years of Experience vs Salary\")\n",
        "plt.show()"
      ],
      "metadata": {
        "id": "oYt1N3ittigI"
      },
      "execution_count": null,
      "outputs": []
    },
    {
      "cell_type": "code",
      "source": [
        "sns.heatmap(df.corr(), annot=True, cmap=\"Blues\")\n",
        "plt.show()"
      ],
      "metadata": {
        "id": "XGtngxn5tkBn"
      },
      "execution_count": null,
      "outputs": []
    }
  ]
}