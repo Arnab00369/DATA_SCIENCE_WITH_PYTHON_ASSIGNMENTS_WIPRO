{
  "nbformat": 4,
  "nbformat_minor": 0,
  "metadata": {
    "colab": {
      "provenance": []
    },
    "kernelspec": {
      "name": "python3",
      "display_name": "Python 3"
    },
    "language_info": {
      "name": "python"
    }
  },
  "cells": [
    {
      "cell_type": "code",
      "execution_count": null,
      "metadata": {
        "id": "ogD3_F8ll6Qw"
      },
      "outputs": [],
      "source": [
        "# Importing Libraries\n",
        "import pandas as pd\n",
        "import numpy as np\n",
        "import matplotlib.pyplot as plt\n",
        "import seaborn as sns"
      ]
    },
    {
      "cell_type": "code",
      "source": [
        "# Load dataset\n",
        "data = pd.read_csv(\"melb_data.csv\")\n",
        "\n",
        "# Display first 5 rows\n",
        "data.head()"
      ],
      "metadata": {
        "id": "IxAm6LLYnZRR"
      },
      "execution_count": null,
      "outputs": []
    },
    {
      "cell_type": "code",
      "source": [
        "# Dataset information\n",
        "print(\"Dataset Info:\")\n",
        "print(data.info())\n",
        "\n",
        "# Shape of dataset\n",
        "print(\"\\nShape of dataset:\", data.shape)\n",
        "\n",
        "# Statistical summary\n",
        "data.describe(include=\"all\").transpose()"
      ],
      "metadata": {
        "id": "S9bNd8UenaBb"
      },
      "execution_count": null,
      "outputs": []
    },
    {
      "cell_type": "code",
      "source": [
        "# Check missing values\n",
        "print(\"Missing Values Count:\\n\", data.isnull().sum())\n",
        "\n",
        "# Visualize missing values\n",
        "plt.figure(figsize=(10,5))\n",
        "sns.heatmap(data.isnull(), cbar=False, cmap=\"viridis\")\n",
        "plt.title(\"Missing Values Heatmap\")\n",
        "plt.show()"
      ],
      "metadata": {
        "id": "ORhKF9sGnbtF"
      },
      "execution_count": null,
      "outputs": []
    },
    {
      "cell_type": "code",
      "source": [
        "# Fill numeric missing values with median\n",
        "for col in data.select_dtypes(include=[np.number]).columns:\n",
        "    data[col].fillna(data[col].median(), inplace=True)\n",
        "\n",
        "# Fill categorical missing values with mode\n",
        "for col in data.select_dtypes(include=[object]).columns:\n",
        "    data[col].fillna(data[col].mode()[0], inplace=True)\n",
        "\n",
        "print(\"Missing values after treatment:\\n\", data.isnull().sum().sum())"
      ],
      "metadata": {
        "id": "I6PJ3OJhnden"
      },
      "execution_count": null,
      "outputs": []
    },
    {
      "cell_type": "code",
      "source": [
        "# Encode categorical columns using Label Encoding\n",
        "from sklearn.preprocessing import LabelEncoder\n",
        "\n",
        "label_enc = LabelEncoder()\n",
        "for col in data.select_dtypes(include=[object]).columns:\n",
        "    data[col] = label_enc.fit_transform(data[col])\n",
        "\n",
        "data.head()"
      ],
      "metadata": {
        "id": "B6TJO8Jgnfnr"
      },
      "execution_count": null,
      "outputs": []
    },
    {
      "cell_type": "code",
      "source": [
        "# Function to detect outliers using IQR\n",
        "def detect_outliers(df, col):\n",
        "    Q1 = df[col].quantile(0.25)\n",
        "    Q3 = df[col].quantile(0.75)\n",
        "    IQR = Q3 - Q1\n",
        "    lower = Q1 - 1.5 * IQR\n",
        "    upper = Q3 + 1.5 * IQR\n",
        "    outliers = df[(df[col] < lower) | (df[col] > upper)]\n",
        "    return outliers\n",
        "\n",
        "# Example: detect outliers in Price\n",
        "outliers_price = detect_outliers(data, \"Price\")\n",
        "print(\"Outliers in Price:\", len(outliers_price))"
      ],
      "metadata": {
        "id": "GPO0cMk9nhb7"
      },
      "execution_count": null,
      "outputs": []
    },
    {
      "cell_type": "code",
      "source": [
        "# Boxplot for Price\n",
        "plt.figure(figsize=(8,5))\n",
        "sns.boxplot(x=data[\"Price\"])\n",
        "plt.title(\"Boxplot of House Prices\")\n",
        "plt.show()\n",
        "\n",
        "# Histogram for Rooms\n",
        "plt.figure(figsize=(8,5))\n",
        "sns.histplot(data[\"Rooms\"], bins=20, kde=True)\n",
        "plt.title(\"Distribution of Rooms\")\n",
        "plt.show()"
      ],
      "metadata": {
        "id": "F8WuErisnjmU"
      },
      "execution_count": null,
      "outputs": []
    },
    {
      "cell_type": "code",
      "source": [
        "plt.figure(figsize=(12,8))\n",
        "sns.heatmap(data.corr(), annot=False, cmap=\"coolwarm\")\n",
        "plt.title(\"Correlation Heatmap\")\n",
        "plt.show()"
      ],
      "metadata": {
        "id": "ncVWZrNGnnRp"
      },
      "execution_count": null,
      "outputs": []
    },
    {
      "cell_type": "code",
      "source": [
        "# Save preprocessed dataset\n",
        "data.to_csv(\"melb_data_cleaned.csv\", index=False)\n",
        "print(\"Cleaned dataset saved as melb_data_cleaned.csv\")"
      ],
      "metadata": {
        "id": "cpDnt8KZnpmf"
      },
      "execution_count": null,
      "outputs": []
    }
  ]
}