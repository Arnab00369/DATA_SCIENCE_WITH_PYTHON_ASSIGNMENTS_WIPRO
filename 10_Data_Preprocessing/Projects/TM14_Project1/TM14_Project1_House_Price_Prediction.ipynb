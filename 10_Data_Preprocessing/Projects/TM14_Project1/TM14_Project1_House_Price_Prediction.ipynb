{
  "nbformat": 4,
  "nbformat_minor": 0,
  "metadata": {
    "colab": {
      "provenance": []
    },
    "kernelspec": {
      "name": "python3",
      "display_name": "Python 3"
    },
    "language_info": {
      "name": "python"
    }
  },
  "cells": [
    {
      "cell_type": "code",
      "execution_count": null,
      "metadata": {
        "id": "rp3yjMmxpKPH"
      },
      "outputs": [],
      "source": [
        "import pandas as pd\n",
        "import numpy as np\n",
        "import matplotlib.pyplot as plt\n",
        "import seaborn as sns"
      ]
    },
    {
      "cell_type": "code",
      "source": [
        "# Load dataset\n",
        "df = pd.read_csv(\"melb_data.csv\")\n",
        "\n",
        "# Show first 5 rows\n",
        "df.head()"
      ],
      "metadata": {
        "id": "XlZAOWxNpnLF"
      },
      "execution_count": null,
      "outputs": []
    },
    {
      "cell_type": "code",
      "source": [
        "# Dataset shape\n",
        "print(\"Dataset Shape:\", df.shape)\n",
        "\n",
        "# Data types & non-null values\n",
        "print(\"\\nDataset Info:\")\n",
        "print(df.info())\n",
        "\n",
        "# Summary statistics\n",
        "df.describe(include=\"all\").transpose()"
      ],
      "metadata": {
        "id": "vm5GFDwqpnt-"
      },
      "execution_count": null,
      "outputs": []
    },
    {
      "cell_type": "code",
      "source": [
        "# Example: Remove duplicates if any\n",
        "df.drop_duplicates(inplace=True)\n",
        "\n",
        "# Example: Drop rows with unrealistic values (Price <= 0, Rooms <= 0 etc.)\n",
        "df = df[df[\"Price\"] > 0]\n",
        "df = df[df[\"Rooms\"] > 0]\n",
        "\n",
        "print(\"Dataset shape after removing inappropriate data:\", df.shape)"
      ],
      "metadata": {
        "id": "Jav7CXWMppvC"
      },
      "execution_count": null,
      "outputs": []
    },
    {
      "cell_type": "code",
      "source": [
        "# Check missing values\n",
        "print(\"Missing values before treatment:\\n\", df.isnull().sum())\n",
        "\n",
        "# Fill numeric missing values with median\n",
        "for col in df.select_dtypes(include=[np.number]).columns:\n",
        "    df[col].fillna(df[col].median(), inplace=True)\n",
        "\n",
        "# Fill categorical missing values with mode\n",
        "for col in df.select_dtypes(include=[object]).columns:\n",
        "    df[col].fillna(df[col].mode()[0], inplace=True)\n",
        "\n",
        "print(\"\\nMissing values after treatment:\\n\", df.isnull().sum().sum())"
      ],
      "metadata": {
        "id": "AyEwS7o7psA8"
      },
      "execution_count": null,
      "outputs": []
    },
    {
      "cell_type": "code",
      "source": [
        "from sklearn.preprocessing import LabelEncoder\n",
        "\n",
        "label_enc = LabelEncoder()\n",
        "\n",
        "# Encode all categorical columns\n",
        "for col in df.select_dtypes(include=[object]).columns:\n",
        "    df[col] = label_enc.fit_transform(df[col])\n",
        "\n",
        "df.head()"
      ],
      "metadata": {
        "id": "MBmn5gGPpsa-"
      },
      "execution_count": null,
      "outputs": []
    },
    {
      "cell_type": "code",
      "source": [
        "# Save processed dataset\n",
        "df.to_csv(\"melb_data_cleaned.csv\", index=False)\n",
        "print(\"Cleaned dataset saved as melb_data_cleaned.csv\")"
      ],
      "metadata": {
        "id": "93XFpz7xpt-a"
      },
      "execution_count": null,
      "outputs": []
    }
  ]
}