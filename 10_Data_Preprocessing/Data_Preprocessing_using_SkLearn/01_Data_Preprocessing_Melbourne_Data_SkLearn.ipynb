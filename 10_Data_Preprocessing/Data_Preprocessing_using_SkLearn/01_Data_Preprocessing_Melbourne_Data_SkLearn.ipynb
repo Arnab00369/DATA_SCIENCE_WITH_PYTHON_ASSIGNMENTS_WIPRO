{
  "cells": [
    {
      "cell_type": "code",
      "execution_count": null,
      "metadata": {
        "id": "tJeJpYaykTJR"
      },
      "outputs": [],
      "source": [
        "# Importing Libraries\n",
        "import pandas as pd\n",
        "import numpy as np\n",
        "import matplotlib.pyplot as plt\n",
        "import seaborn as sns\n",
        "from sklearn.preprocessing import LabelEncoder, StandardScaler"
      ]
    },
    {
      "cell_type": "code",
      "execution_count": null,
      "metadata": {
        "id": "N1xZa8-qlZ2x"
      },
      "outputs": [],
      "source": [
        "# Load the Melbourne Housing dataset\n",
        "df = pd.read_csv(\"melb_data.csv\")\n",
        "\n",
        "# Display first 5 rows\n",
        "df.head()"
      ]
    },
    {
      "cell_type": "code",
      "execution_count": null,
      "metadata": {
        "id": "LSbmDX9CldCT"
      },
      "outputs": [],
      "source": [
        "# Dataset overview\n",
        "print(\"Shape of dataset:\", df.shape)\n",
        "print(\"\\nData types and missing values:\")\n",
        "df.info()\n",
        "\n",
        "# Summary statistics\n",
        "df.describe(include='all').T"
      ]
    },
    {
      "cell_type": "code",
      "execution_count": null,
      "metadata": {
        "id": "ijTdZM3Cld5Q"
      },
      "outputs": [],
      "source": [
        "# Check missing values\n",
        "df.isnull().sum()\n",
        "\n",
        "# Option 1: Drop columns with too many missing values\n",
        "df = df.drop(columns=['BuildingArea','YearBuilt'], errors='ignore')\n",
        "\n",
        "# Option 2: Fill missing numerical with median, categorical with mode\n",
        "for col in df.columns:\n",
        "    if df[col].dtype == \"object\":\n",
        "        df[col] = df[col].fillna(df[col].mode()[0])\n",
        "    else:\n",
        "        df[col] = df[col].fillna(df[col].median())\n",
        "\n",
        "df.isnull().sum().sum()   # should be 0"
      ]
    },
    {
      "cell_type": "code",
      "execution_count": null,
      "metadata": {
        "id": "EOp28HJsliuV"
      },
      "outputs": [],
      "source": [
        "# Encode categorical columns\n",
        "le = LabelEncoder()\n",
        "for col in df.select_dtypes(include=\"object\"):\n",
        "    df[col] = le.fit_transform(df[col])\n",
        "\n",
        "df.head()"
      ]
    },
    {
      "cell_type": "code",
      "execution_count": null,
      "metadata": {
        "id": "I-88v_3Cllzi"
      },
      "outputs": [],
      "source": [
        "# Boxplot for numerical features\n",
        "num_cols = df.select_dtypes(include=np.number).columns\n",
        "\n",
        "for col in num_cols[:5]:  # limit to first 5 for quick view\n",
        "    plt.figure(figsize=(6,4))\n",
        "    sns.boxplot(x=df[col])\n",
        "    plt.title(f\"Boxplot of {col}\")\n",
        "    plt.show()"
      ]
    },
    {
      "cell_type": "code",
      "execution_count": null,
      "metadata": {
        "id": "LuCWaKp4ln3O"
      },
      "outputs": [],
      "source": [
        "scaler = StandardScaler()\n",
        "scaled_df = pd.DataFrame(scaler.fit_transform(df[num_cols]), columns=num_cols)\n",
        "\n",
        "print(\"First 5 rows after scaling:\")\n",
        "scaled_df.head()"
      ]
    },
    {
      "cell_type": "code",
      "execution_count": null,
      "metadata": {
        "id": "ZEIZ4HBxlp8A"
      },
      "outputs": [],
      "source": [
        "# Combine categorical + scaled numerical\n",
        "final_df = pd.concat([scaled_df, df.drop(columns=num_cols)], axis=1)\n",
        "\n",
        "print(\"Final dataset shape:\", final_df.shape)\n",
        "final_df.head()"
      ]
    }
  ],
  "metadata": {
    "colab": {
      "provenance": []
    },
    "kernelspec": {
      "display_name": "Python 3",
      "name": "python3"
    },
    "language_info": {
      "name": "python"
    }
  },
  "nbformat": 4,
  "nbformat_minor": 0
}
