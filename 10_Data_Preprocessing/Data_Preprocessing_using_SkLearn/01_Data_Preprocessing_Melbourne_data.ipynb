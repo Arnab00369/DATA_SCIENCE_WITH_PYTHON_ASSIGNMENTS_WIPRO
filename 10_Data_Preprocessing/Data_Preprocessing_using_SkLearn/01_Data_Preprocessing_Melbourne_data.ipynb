{
  "nbformat": 4,
  "nbformat_minor": 0,
  "metadata": {
    "colab": {
      "provenance": []
    },
    "kernelspec": {
      "name": "python3",
      "display_name": "Python 3"
    },
    "language_info": {
      "name": "python"
    }
  },
  "cells": [
    {
      "cell_type": "code",
      "execution_count": null,
      "metadata": {
        "id": "tJeJpYaykTJR"
      },
      "outputs": [],
      "source": [
        "import pandas as pd\n",
        "import numpy as np\n",
        "import matplotlib.pyplot as plt\n",
        "import seaborn as sns\n",
        "from sklearn.preprocessing import LabelEncoder, StandardScaler"
      ]
    },
    {
      "cell_type": "code",
      "source": [
        "# Load the Melbourne Housing dataset\n",
        "df = pd.read_csv(\"melb_data.csv\")\n",
        "\n",
        "# Display first 5 rows\n",
        "df.head()"
      ],
      "metadata": {
        "id": "N1xZa8-qlZ2x"
      },
      "execution_count": null,
      "outputs": []
    },
    {
      "cell_type": "code",
      "source": [
        "# Dataset overview\n",
        "print(\"Shape of dataset:\", df.shape)\n",
        "print(\"\\nData types and missing values:\")\n",
        "df.info()\n",
        "\n",
        "# Summary statistics\n",
        "df.describe(include='all').T"
      ],
      "metadata": {
        "id": "LSbmDX9CldCT"
      },
      "execution_count": null,
      "outputs": []
    },
    {
      "cell_type": "code",
      "source": [
        "# Check missing values\n",
        "df.isnull().sum()\n",
        "\n",
        "# Option 1: Drop columns with too many missing values\n",
        "df = df.drop(columns=['BuildingArea','YearBuilt'], errors='ignore')\n",
        "\n",
        "# Option 2: Fill missing numerical with median, categorical with mode\n",
        "for col in df.columns:\n",
        "    if df[col].dtype == \"object\":\n",
        "        df[col] = df[col].fillna(df[col].mode()[0])\n",
        "    else:\n",
        "        df[col] = df[col].fillna(df[col].median())\n",
        "\n",
        "df.isnull().sum().sum()   # should be 0"
      ],
      "metadata": {
        "id": "ijTdZM3Cld5Q"
      },
      "execution_count": null,
      "outputs": []
    },
    {
      "cell_type": "code",
      "source": [
        "# Encode categorical columns\n",
        "le = LabelEncoder()\n",
        "for col in df.select_dtypes(include=\"object\"):\n",
        "    df[col] = le.fit_transform(df[col])\n",
        "\n",
        "df.head()"
      ],
      "metadata": {
        "id": "EOp28HJsliuV"
      },
      "execution_count": null,
      "outputs": []
    },
    {
      "cell_type": "code",
      "source": [
        "# Boxplot for numerical features\n",
        "num_cols = df.select_dtypes(include=np.number).columns\n",
        "\n",
        "for col in num_cols[:5]:  # limit to first 5 for quick view\n",
        "    plt.figure(figsize=(6,4))\n",
        "    sns.boxplot(x=df[col])\n",
        "    plt.title(f\"Boxplot of {col}\")\n",
        "    plt.show()"
      ],
      "metadata": {
        "id": "I-88v_3Cllzi"
      },
      "execution_count": null,
      "outputs": []
    },
    {
      "cell_type": "code",
      "source": [
        "scaler = StandardScaler()\n",
        "scaled_df = pd.DataFrame(scaler.fit_transform(df[num_cols]), columns=num_cols)\n",
        "\n",
        "print(\"First 5 rows after scaling:\")\n",
        "scaled_df.head()"
      ],
      "metadata": {
        "id": "LuCWaKp4ln3O"
      },
      "execution_count": null,
      "outputs": []
    },
    {
      "cell_type": "code",
      "source": [
        "# Combine categorical + scaled numerical\n",
        "final_df = pd.concat([scaled_df, df.drop(columns=num_cols)], axis=1)\n",
        "\n",
        "print(\"Final dataset shape:\", final_df.shape)\n",
        "final_df.head()"
      ],
      "metadata": {
        "id": "ZEIZ4HBxlp8A"
      },
      "execution_count": null,
      "outputs": []
    }
  ]
}