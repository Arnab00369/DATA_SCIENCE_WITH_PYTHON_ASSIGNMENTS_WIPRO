{
  "nbformat": 4,
  "nbformat_minor": 0,
  "metadata": {
    "colab": {
      "provenance": []
    },
    "kernelspec": {
      "name": "python3",
      "display_name": "Python 3"
    },
    "language_info": {
      "name": "python"
    }
  },
  "cells": [
    {
      "cell_type": "code",
      "execution_count": null,
      "metadata": {
        "id": "u5ZSgXoOgkLt"
      },
      "outputs": [],
      "source": [
        "# Question: Exercise 1: Create two dimensional 3*3 array and perform ndim, shape, slicing operation on it.\n",
        "\n",
        "import numpy as np"
      ]
    },
    {
      "cell_type": "code",
      "source": [
        "# create 2D 3x3 array\n",
        "arr_2d = np.array([[1,2,3],\n",
        "                  [4,5,6],\n",
        "                  [7,8,9]])"
      ],
      "metadata": {
        "id": "eNe8p3pQgtAi"
      },
      "execution_count": null,
      "outputs": []
    },
    {
      "cell_type": "code",
      "source": [
        "# number of dimensions\n",
        "print(\"Dimensions (ndim):\", arr_2d.ndim)"
      ],
      "metadata": {
        "id": "x2ByO_MNgvsN"
      },
      "execution_count": null,
      "outputs": []
    },
    {
      "cell_type": "code",
      "source": [
        "# shape of the array\n",
        "print(\"Shape:\", arr_2d.shape)"
      ],
      "metadata": {
        "id": "VD7lpO3ggxet"
      },
      "execution_count": null,
      "outputs": []
    },
    {
      "cell_type": "code",
      "source": [
        "# slicing examples\n",
        "print(\"First row:\", arr_2d[0])          # full first row\n",
        "print(\"First column:\", arr_2d[:,0])     # full first column\n",
        "print(\"Sub-matrix (2x2):\\n\", arr_2d[0:2, 0:2])  # top-left 2x2 block"
      ],
      "metadata": {
        "id": "99uPryWxgy7y"
      },
      "execution_count": null,
      "outputs": []
    }
  ]
}