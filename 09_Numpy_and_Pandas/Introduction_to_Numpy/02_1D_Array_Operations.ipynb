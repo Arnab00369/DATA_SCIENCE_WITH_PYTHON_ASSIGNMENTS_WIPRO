{
  "nbformat": 4,
  "nbformat_minor": 0,
  "metadata": {
    "colab": {
      "provenance": []
    },
    "kernelspec": {
      "name": "python3",
      "display_name": "Python 3"
    },
    "language_info": {
      "name": "python"
    }
  },
  "cells": [
    {
      "cell_type": "code",
      "execution_count": null,
      "metadata": {
        "id": "DPKYVo8Ag9F5"
      },
      "outputs": [],
      "source": [
        "# Question:Exercise 2 : Create one dimensional array and perform ndim, shape, reshape operation on it.\n",
        "\n",
        "import numpy as np"
      ]
    },
    {
      "cell_type": "code",
      "source": [
        "# create 1D array\n",
        "arr_1d = np.array([10, 20, 30, 40, 50, 60])"
      ],
      "metadata": {
        "id": "ybFx6yXuhBMU"
      },
      "execution_count": null,
      "outputs": []
    },
    {
      "cell_type": "code",
      "source": [
        "# number of dimensions\n",
        "print(\"Dimensions (ndim):\", arr_1d.ndim)"
      ],
      "metadata": {
        "id": "XKDwh3j_hClp"
      },
      "execution_count": null,
      "outputs": []
    },
    {
      "cell_type": "code",
      "source": [
        "# shape of the array\n",
        "print(\"Shape:\", arr_1d.shape)"
      ],
      "metadata": {
        "id": "T1akGahBhD9S"
      },
      "execution_count": null,
      "outputs": []
    },
    {
      "cell_type": "code",
      "source": [
        "# reshape the 1D array into 2 rows, 3 columns\n",
        "reshaped_arr = arr_1d.reshape(2, 3)\n",
        "print(\"Reshaped Array (2x3):\\n\", reshaped_arr)"
      ],
      "metadata": {
        "id": "cTy768n7hFYw"
      },
      "execution_count": null,
      "outputs": []
    }
  ]
}