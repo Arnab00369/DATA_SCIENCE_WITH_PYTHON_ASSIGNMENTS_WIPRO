{
  "nbformat": 4,
  "nbformat_minor": 0,
  "metadata": {
    "colab": {
      "provenance": []
    },
    "kernelspec": {
      "name": "python3",
      "display_name": "Python 3"
    },
    "language_info": {
      "name": "python"
    }
  },
  "cells": [
    {
      "cell_type": "code",
      "execution_count": null,
      "metadata": {
        "id": "irj1TokniA6-"
      },
      "outputs": [],
      "source": [
        "# Importing Library\n",
        "import pandas as pd"
      ]
    },
    {
      "cell_type": "code",
      "source": [
        "# Direct URL (works like UCI dataset)\n",
        "url = \"https://raw.githubusercontent.com/selva86/datasets/master/50_Startups.csv\""
      ],
      "metadata": {
        "id": "2gwz2k4_iF0X"
      },
      "execution_count": null,
      "outputs": []
    },
    {
      "cell_type": "code",
      "source": [
        "# Load dataset from URL\n",
        "startups = pd.read_csv(url,\n",
        "   delim_whitespace=True,  # the file is space-delimited (or whitespace separated)\n",
        "   header=None,             # no header row in the data file\n",
        "   na_values='?')"
      ],
      "metadata": {
        "id": "1l2aF3G6iHhV"
      },
      "execution_count": null,
      "outputs": []
    },
    {
      "cell_type": "code",
      "source": [
        "print(\"First 5 Rows:\\n\", startups.head())\n",
        "print(\"\\nStatistical Summary:\\n\", startups.describe())\n",
        "print(\"\\nCorrelation Matrix:\\n\", startups.corr())"
      ],
      "metadata": {
        "id": "1k3jwcq8iJLo"
      },
      "execution_count": null,
      "outputs": []
    }
  ]
}