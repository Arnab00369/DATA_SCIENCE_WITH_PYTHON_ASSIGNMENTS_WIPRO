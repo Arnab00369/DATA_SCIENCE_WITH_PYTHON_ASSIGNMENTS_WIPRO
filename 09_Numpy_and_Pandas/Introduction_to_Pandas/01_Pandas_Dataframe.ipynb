{
  "nbformat": 4,
  "nbformat_minor": 0,
  "metadata": {
    "colab": {
      "provenance": []
    },
    "kernelspec": {
      "name": "python3",
      "display_name": "Python 3"
    },
    "language_info": {
      "name": "python"
    }
  },
  "cells": [
    {
      "cell_type": "code",
      "execution_count": 1,
      "metadata": {
        "id": "APgG6QC0hQp0"
      },
      "outputs": [],
      "source": [
        "# Importing libraries\n",
        "import pandas as pd"
      ]
    },
    {
      "cell_type": "code",
      "source": [
        "# URL of the raw data file\n",
        "url = \"https://archive.ics.uci.edu/ml/machine-learning-databases/auto-mpg/auto-mpg.data\""
      ],
      "metadata": {
        "id": "PTfMlSW5hWM9"
      },
      "execution_count": null,
      "outputs": []
    },
    {
      "cell_type": "code",
      "source": [
        "# Read the data into a DataFrame. Note: there is no header row, and some horsepower values are '?'\n",
        "cars = pd.read_csv(\n",
        "   url,\n",
        "   delim_whitespace=True,  # the file is space-delimited (or whitespace separated)\n",
        "   header=None,             # no header row in the data file\n",
        "   na_values='?'            # treat '?' as NaN for missing values\n",
        ")"
      ],
      "metadata": {
        "id": "8ghul5TfhYUp"
      },
      "execution_count": null,
      "outputs": []
    },
    {
      "cell_type": "code",
      "source": [
        "# Now assign column names based on dataset description\n",
        "cars.columns = [\n",
        "   \"mpg\", \"cylinders\", \"displacement\", \"horsepower\",\n",
        "   \"weight\", \"acceleration\", \"model_year\", \"origin\", \"car_name\"\n",
        "]"
      ],
      "metadata": {
        "id": "ghqGWCOUha3w"
      },
      "execution_count": null,
      "outputs": []
    },
    {
      "cell_type": "code",
      "source": [
        "# Inspect first 10 rows\n",
        "print(\"First 10 rows:\")\n",
        "print(cars.head(10))"
      ],
      "metadata": {
        "id": "oVr3B8cPhcxw"
      },
      "execution_count": null,
      "outputs": []
    },
    {
      "cell_type": "code",
      "source": [
        "# Inspect last 5 rows\n",
        "print(\"\\nLast 5 rows:\")\n",
        "print(cars.tail())"
      ],
      "metadata": {
        "id": "8EPUGNXaheFV"
      },
      "execution_count": null,
      "outputs": []
    },
    {
      "cell_type": "code",
      "source": [
        "# Get metadata: data types, missing values, shape\n",
        "print(\"\\nInfo about dataset:\")\n",
        "print(cars.info())"
      ],
      "metadata": {
        "id": "9ZNBNdJ3hfY-"
      },
      "execution_count": null,
      "outputs": []
    },
    {
      "cell_type": "code",
      "source": [
        "print(\"\\nShape of dataset:\", cars.shape)"
      ],
      "metadata": {
        "id": "VGy8smjwhg2M"
      },
      "execution_count": null,
      "outputs": []
    },
    {
      "cell_type": "code",
      "source": [
        "# Get summary statistics\n",
        "print(\"\\nStatistical summary:\")\n",
        "print(cars.describe())"
      ],
      "metadata": {
        "id": "9sR34iUnhiTB"
      },
      "execution_count": null,
      "outputs": []
    }
  ]
}