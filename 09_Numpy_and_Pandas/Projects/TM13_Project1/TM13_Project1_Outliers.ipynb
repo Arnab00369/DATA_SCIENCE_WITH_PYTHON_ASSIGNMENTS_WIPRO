{
  "cells": [
    {
      "cell_type": "code",
      "execution_count": null,
      "metadata": {
        "id": "VsoZ7ugfezPS"
      },
      "outputs": [],
      "source": [
        "import pandas as pd\n",
        "import matplotlib.pyplot as plt\n",
        "import seaborn as sns"
      ]
    },
    {
      "cell_type": "code",
      "execution_count": null,
      "metadata": {
        "id": "1wDS3e47fOAT"
      },
      "outputs": [],
      "source": [
        "# Load the dataset\n",
        "df = pd.read_csv(\"datasetExample.csv\")\n",
        "\n",
        "# Show first 5 rows\n",
        "print(\"First 5 rows of dataset:\")\n",
        "df.head()"
      ]
    },
    {
      "cell_type": "code",
      "execution_count": null,
      "metadata": {
        "id": "rAML271Ue8Pb"
      },
      "outputs": [],
      "source": [
        "# Detect outliers using Boxplot\n",
        "for column in df.select_dtypes(include=['float64', 'int64']).columns:\n",
        "    plt.figure(figsize=(6, 4))\n",
        "    sns.boxplot(x=df[column])\n",
        "    plt.title(f\"Boxplot for {column}\")\n",
        "    plt.show()"
      ]
    },
    {
      "cell_type": "code",
      "execution_count": null,
      "metadata": {
        "id": "wtpxkwRne9Mv"
      },
      "outputs": [],
      "source": [
        "# Calculate IQR\n",
        "Q1 = df.quantile(0.25)\n",
        "Q3 = df.quantile(0.75)\n",
        "IQR = Q3 - Q1\n",
        "\n",
        "# Find outliers\n",
        "outliers = ((df < (Q1 - 1.5 * IQR)) | (df > (Q3 + 1.5 * IQR)))\n",
        "\n",
        "print(\"\\nOutliers detected (True = Outlier):\")\n",
        "outliers"
      ]
    },
    {
      "cell_type": "code",
      "execution_count": null,
      "metadata": {
        "id": "IfT-9zuFe_U0"
      },
      "outputs": [],
      "source": [
        "# Filter rows containing outliers\n",
        "outlier_rows = df[outliers.any(axis=1)]\n",
        "\n",
        "print(\"\\nRows containing outliers:\")\n",
        "outlier_rows"
      ]
    }
  ],
  "metadata": {
    "colab": {
      "provenance": []
    },
    "kernelspec": {
      "display_name": "Python 3",
      "name": "python3"
    },
    "language_info": {
      "name": "python"
    }
  },
  "nbformat": 4,
  "nbformat_minor": 0
}
