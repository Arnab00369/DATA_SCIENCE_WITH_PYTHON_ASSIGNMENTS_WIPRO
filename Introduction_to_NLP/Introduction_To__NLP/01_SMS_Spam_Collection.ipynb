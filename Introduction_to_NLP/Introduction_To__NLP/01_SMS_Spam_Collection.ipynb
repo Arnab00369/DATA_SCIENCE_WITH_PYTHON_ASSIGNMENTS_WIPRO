{
 "cells": [
  {
   "cell_type": "markdown",
   "id": "45cd76c6",
   "metadata": {},
   "source": [
    "# Hands-on Assignment: Text Preprocessing on SMS Spam Collection Dataset"
   ]
  },
  {
   "cell_type": "code",
   "execution_count": null,
   "id": "3e394b3a",
   "metadata": {
    "vscode": {
     "languageId": "plaintext"
    }
   },
   "outputs": [],
   "source": [
    "import pandas as pd\n",
    "import numpy as np\n",
    "import string\n",
    "import re\n",
    "import nltk\n",
    "from nltk.corpus import stopwords\n",
    "from nltk.stem import PorterStemmer\n",
    "\n",
    "# Download NLTK stopwords if not already present\n",
    "nltk.download('stopwords')"
   ]
  },
  {
   "cell_type": "code",
   "execution_count": null,
   "id": "530bb3d2",
   "metadata": {
    "vscode": {
     "languageId": "plaintext"
    }
   },
   "outputs": [],
   "source": [
    "# Load the dataset\n",
    "df = pd.read_csv(\"spam.csv\", encoding=\"latin-1\")\n",
    "\n",
    "# Drop unnecessary columns\n",
    "df = df[['v1', 'v2']]\n",
    "\n",
    "# Rename columns for clarity\n",
    "df = df.rename(columns={'v1': 'label', 'v2': 'message'})\n",
    "\n",
    "# Display first few rows\n",
    "df.head()"
   ]
  },
  {
   "cell_type": "code",
   "execution_count": null,
   "id": "e52927c3",
   "metadata": {
    "vscode": {
     "languageId": "plaintext"
    }
   },
   "outputs": [],
   "source": [
    "# Check dataset info and class distribution\n",
    "print(df.info())\n",
    "print(\"\\nClass distribution:\")\n",
    "print(df['label'].value_counts())"
   ]
  },
  {
   "cell_type": "code",
   "execution_count": null,
   "id": "0e17c565",
   "metadata": {
    "vscode": {
     "languageId": "plaintext"
    }
   },
   "outputs": [],
   "source": [
    "# Convert labels to binary (ham=0, spam=1)\n",
    "df['label_num'] = df['label'].map({'ham': 0, 'spam': 1})\n",
    "\n",
    "# Lowercase the messages\n",
    "df['message'] = df['message'].str.lower()\n",
    "\n",
    "# Remove punctuation\n",
    "df['message'] = df['message'].apply(lambda x: x.translate(str.maketrans('', '', string.punctuation)))\n",
    "\n",
    "# Remove numbers\n",
    "df['message'] = df['message'].apply(lambda x: re.sub(r'\\d+', '', x))\n",
    "\n",
    "df.head()"
   ]
  },
  {
   "cell_type": "code",
   "execution_count": null,
   "id": "6f97fec8",
   "metadata": {
    "vscode": {
     "languageId": "plaintext"
    }
   },
   "outputs": [],
   "source": [
    "stop_words = set(stopwords.words('english'))\n",
    "ps = PorterStemmer()\n",
    "\n",
    "def preprocess_text(text):\n",
    "    words = text.split()\n",
    "    # Remove stopwords\n",
    "    words = [w for w in words if w not in stop_words]\n",
    "    # Apply stemming\n",
    "    words = [ps.stem(w) for w in words]\n",
    "    return ' '.join(words)\n",
    "\n",
    "df['clean_message'] = df['message'].apply(preprocess_text)\n",
    "df.head()"
   ]
  },
  {
   "cell_type": "code",
   "execution_count": null,
   "id": "c9f0ade4",
   "metadata": {
    "vscode": {
     "languageId": "plaintext"
    }
   },
   "outputs": [],
   "source": [
    "# Compare original vs cleaned messages\n",
    "df[['message', 'clean_message']].head(10)"
   ]
  }
 ],
 "metadata": {
  "language_info": {
   "name": "python"
  }
 },
 "nbformat": 4,
 "nbformat_minor": 5
}
